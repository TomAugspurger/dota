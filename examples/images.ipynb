{
 "metadata": {
  "name": "",
  "signature": "sha256:ad6b1efe52e78120fa4fd32bfc410804a884b49c1089a9682696d6766b98e278"
 },
 "nbformat": 3,
 "nbformat_minor": 0,
 "worksheets": [
  {
   "cells": [
    {
     "cell_type": "code",
     "collapsed": false,
     "input": [
      "%load_ext autoreload\n",
      "%autoreload\n",
      "\n",
      "from IPython.display import display, HTML, Image\n",
      "\n",
      "from dota.api import DetailsResponse, API"
     ],
     "language": "python",
     "metadata": {},
     "outputs": [],
     "prompt_number": 1
    },
    {
     "cell_type": "code",
     "collapsed": false,
     "input": [
      "dr = DetailsResponse.from_json('../data/585659011.json')\n",
      "df = dr.match_report().head()"
     ],
     "language": "python",
     "metadata": {},
     "outputs": [],
     "prompt_number": 2
    },
    {
     "cell_type": "code",
     "collapsed": false,
     "input": [
      "df"
     ],
     "language": "python",
     "metadata": {},
     "outputs": [
      {
       "html": [
        "<div style=\"max-height:1000px;max-width:1500px;overflow:auto;\">\n",
        "<table border=\"1\" class=\"dataframe\">\n",
        "  <thead>\n",
        "    <tr style=\"text-align: right;\">\n",
        "      <th></th>\n",
        "      <th></th>\n",
        "      <th></th>\n",
        "      <th>level</th>\n",
        "      <th>kills</th>\n",
        "      <th>deaths</th>\n",
        "      <th>assists</th>\n",
        "      <th>last_hits</th>\n",
        "      <th>denies</th>\n",
        "      <th>gold</th>\n",
        "      <th>gold_spent</th>\n",
        "      <th>player_slot</th>\n",
        "      <th>account_id</th>\n",
        "      <th>hero_damage</th>\n",
        "      <th>hero_healing</th>\n",
        "      <th>item_0</th>\n",
        "      <th>item_1</th>\n",
        "      <th>item_2</th>\n",
        "      <th>item_3</th>\n",
        "      <th>item_4</th>\n",
        "      <th>item_5</th>\n",
        "      <th>win</th>\n",
        "    </tr>\n",
        "    <tr>\n",
        "      <th>match_id</th>\n",
        "      <th>team</th>\n",
        "      <th>hero</th>\n",
        "      <th></th>\n",
        "      <th></th>\n",
        "      <th></th>\n",
        "      <th></th>\n",
        "      <th></th>\n",
        "      <th></th>\n",
        "      <th></th>\n",
        "      <th></th>\n",
        "      <th></th>\n",
        "      <th></th>\n",
        "      <th></th>\n",
        "      <th></th>\n",
        "      <th></th>\n",
        "      <th></th>\n",
        "      <th></th>\n",
        "      <th></th>\n",
        "      <th></th>\n",
        "      <th></th>\n",
        "      <th></th>\n",
        "    </tr>\n",
        "  </thead>\n",
        "  <tbody>\n",
        "    <tr>\n",
        "      <th rowspan=\"5\" valign=\"top\">585659011</th>\n",
        "      <th rowspan=\"5\" valign=\"top\">Dire</th>\n",
        "      <th>rubick</th>\n",
        "      <td> 16</td>\n",
        "      <td>  4</td>\n",
        "      <td> 5</td>\n",
        "      <td> 11</td>\n",
        "      <td>  32</td>\n",
        "      <td> 24</td>\n",
        "      <td> 2166</td>\n",
        "      <td>  8440</td>\n",
        "      <td> 130</td>\n",
        "      <td> 142531084</td>\n",
        "      <td>  5240</td>\n",
        "      <td>    0</td>\n",
        "      <td> 180</td>\n",
        "      <td>  46</td>\n",
        "      <td>  24</td>\n",
        "      <td> 102</td>\n",
        "      <td>  36</td>\n",
        "      <td>  57</td>\n",
        "      <td> True</td>\n",
        "    </tr>\n",
        "    <tr>\n",
        "      <th>shadow_shaman</th>\n",
        "      <td> 15</td>\n",
        "      <td>  2</td>\n",
        "      <td> 4</td>\n",
        "      <td> 17</td>\n",
        "      <td>  76</td>\n",
        "      <td>  1</td>\n",
        "      <td>  638</td>\n",
        "      <td> 11730</td>\n",
        "      <td> 129</td>\n",
        "      <td>       NaN</td>\n",
        "      <td>  9046</td>\n",
        "      <td> 1045</td>\n",
        "      <td>  88</td>\n",
        "      <td> 108</td>\n",
        "      <td> 180</td>\n",
        "      <td>  73</td>\n",
        "      <td>  67</td>\n",
        "      <td>  79</td>\n",
        "      <td> True</td>\n",
        "    </tr>\n",
        "    <tr>\n",
        "      <th>sniper</th>\n",
        "      <td> 16</td>\n",
        "      <td> 11</td>\n",
        "      <td> 3</td>\n",
        "      <td>  8</td>\n",
        "      <td>  70</td>\n",
        "      <td> 10</td>\n",
        "      <td> 1602</td>\n",
        "      <td> 12120</td>\n",
        "      <td> 128</td>\n",
        "      <td>       NaN</td>\n",
        "      <td> 15558</td>\n",
        "      <td>    0</td>\n",
        "      <td>   0</td>\n",
        "      <td> 152</td>\n",
        "      <td>  63</td>\n",
        "      <td>  75</td>\n",
        "      <td> 168</td>\n",
        "      <td> 149</td>\n",
        "      <td> True</td>\n",
        "    </tr>\n",
        "    <tr>\n",
        "      <th>storm_spirit</th>\n",
        "      <td> 19</td>\n",
        "      <td>  7</td>\n",
        "      <td> 2</td>\n",
        "      <td>  9</td>\n",
        "      <td> 152</td>\n",
        "      <td> 14</td>\n",
        "      <td> 1296</td>\n",
        "      <td> 16610</td>\n",
        "      <td> 132</td>\n",
        "      <td> 100672887</td>\n",
        "      <td> 10249</td>\n",
        "      <td>    0</td>\n",
        "      <td>  63</td>\n",
        "      <td> 123</td>\n",
        "      <td> 121</td>\n",
        "      <td>  58</td>\n",
        "      <td>   0</td>\n",
        "      <td>  77</td>\n",
        "      <td> True</td>\n",
        "    </tr>\n",
        "    <tr>\n",
        "      <th>windrunner</th>\n",
        "      <td> 17</td>\n",
        "      <td>  5</td>\n",
        "      <td> 1</td>\n",
        "      <td> 16</td>\n",
        "      <td> 123</td>\n",
        "      <td>  5</td>\n",
        "      <td>  841</td>\n",
        "      <td> 15545</td>\n",
        "      <td> 131</td>\n",
        "      <td>  64741364</td>\n",
        "      <td>  8664</td>\n",
        "      <td>    0</td>\n",
        "      <td>  50</td>\n",
        "      <td>  34</td>\n",
        "      <td> 102</td>\n",
        "      <td>  96</td>\n",
        "      <td>   7</td>\n",
        "      <td>  46</td>\n",
        "      <td> True</td>\n",
        "    </tr>\n",
        "  </tbody>\n",
        "</table>\n",
        "<p>5 rows \u00d7 19 columns</p>\n",
        "</div>"
       ],
       "metadata": {},
       "output_type": "pyout",
       "prompt_number": 3,
       "text": [
        "                              level  kills  deaths  assists  last_hits  \\\n",
        "match_id  team hero                                                      \n",
        "585659011 Dire rubick            16      4       5       11         32   \n",
        "               shadow_shaman     15      2       4       17         76   \n",
        "               sniper            16     11       3        8         70   \n",
        "               storm_spirit      19      7       2        9        152   \n",
        "               windrunner        17      5       1       16        123   \n",
        "\n",
        "                              denies  gold  gold_spent  player_slot  \\\n",
        "match_id  team hero                                                   \n",
        "585659011 Dire rubick             24  2166        8440          130   \n",
        "               shadow_shaman       1   638       11730          129   \n",
        "               sniper             10  1602       12120          128   \n",
        "               storm_spirit       14  1296       16610          132   \n",
        "               windrunner          5   841       15545          131   \n",
        "\n",
        "                              account_id  hero_damage  hero_healing  item_0  \\\n",
        "match_id  team hero                                                           \n",
        "585659011 Dire rubick          142531084         5240             0     180   \n",
        "               shadow_shaman         NaN         9046          1045      88   \n",
        "               sniper                NaN        15558             0       0   \n",
        "               storm_spirit    100672887        10249             0      63   \n",
        "               windrunner       64741364         8664             0      50   \n",
        "\n",
        "                              item_1  item_2  item_3  item_4  item_5   win  \n",
        "match_id  team hero                                                         \n",
        "585659011 Dire rubick             46      24     102      36      57  True  \n",
        "               shadow_shaman     108     180      73      67      79  True  \n",
        "               sniper            152      63      75     168     149  True  \n",
        "               storm_spirit      123     121      58       0      77  True  \n",
        "               windrunner         34     102      96       7      46  True  \n",
        "\n",
        "[5 rows x 19 columns]"
       ]
      }
     ],
     "prompt_number": 3
    },
    {
     "cell_type": "code",
     "collapsed": false,
     "input": [
      "r = API.get_item_image('tpscroll').read()\n",
      "Image(r)"
     ],
     "language": "python",
     "metadata": {},
     "outputs": [
      {
       "metadata": {},
       "output_type": "pyout",
       "png": "[encoded data removed]",
       "prompt_number": 5,
       "text": [
        "<IPython.core.display.Image at 0x111ab1198>"
       ]
      }
     ],
     "prompt_number": 5
    },
    {
     "cell_type": "code",
     "collapsed": false,
     "input": [
      "Img([2])"
     ],
     "language": "python",
     "metadata": {},
     "outputs": [
      {
       "metadata": {},
       "output_type": "pyout",
       "png": "<img src=\"/Users/admin/Envs/py3/lib/python3.4/site-packages/dota/resources/item/arcane_boots_lg.png\"/>",
       "prompt_number": 104,
       "text": [
        "[2]"
       ]
      }
     ],
     "prompt_number": 104
    },
    {
     "cell_type": "code",
     "collapsed": false,
     "input": [
      "x = Image('/Users/admin/Envs/py3/lib/python3.4/site-packages/dota/resources/item/arcane_boots_lg.png')"
     ],
     "language": "python",
     "metadata": {},
     "outputs": [],
     "prompt_number": 105
    },
    {
     "cell_type": "code",
     "collapsed": false,
     "input": [
      "[x]"
     ],
     "language": "python",
     "metadata": {},
     "outputs": [
      {
       "metadata": {},
       "output_type": "pyout",
       "prompt_number": 108,
       "text": [
        "[<IPython.core.display.Image at 0x10a023908>]"
       ]
      }
     ],
     "prompt_number": 108
    },
    {
     "cell_type": "code",
     "collapsed": false,
     "input": [
      "class Images:\n",
      "    \n",
      "    def __init__(self, images):\n",
      "        self.images = images\n",
      "    \n",
      "    def _repr_html_(self):\n",
      "        return self.images"
     ],
     "language": "python",
     "metadata": {},
     "outputs": [],
     "prompt_number": 9
    },
    {
     "cell_type": "code",
     "collapsed": false,
     "input": [
      "Images(r)"
     ],
     "language": "python",
     "metadata": {},
     "outputs": [
      {
       "output_type": "stream",
       "stream": "stderr",
       "text": [
        "/Users/admin/Envs/py3/lib/python3.4/site-packages/IPython/core/formatters.py:249: FormatterWarning: text/html formatter returned invalid type <class 'bytes'> (expected (<class 'str'>,)) for object: <__main__.Images object at 0x111bf38d0>\n",
        "  FormatterWarning\n"
       ]
      },
      {
       "metadata": {},
       "output_type": "pyout",
       "prompt_number": 10,
       "text": [
        "<__main__.Images at 0x111bf38d0>"
       ]
      }
     ],
     "prompt_number": 10
    },
    {
     "cell_type": "code",
     "collapsed": false,
     "input": [
      "%%HTML\n",
      "<table>\n",
      "<tr><td><img src=\"../../../Envs/py3/lib/python3.4/site-packages/dota/resources/item/arcane_boots_lg.png\"</td></tr>\n",
      "</table>"
     ],
     "language": "python",
     "metadata": {},
     "outputs": [
      {
       "html": [
        "<table>\n",
        "<tr><td><img src=\"../../../Envs/py3/lib/python3.4/site-packages/dota/resources/item/arcane_boots_lg.png\"</td></tr>\n",
        "</table>"
       ],
       "metadata": {},
       "output_type": "display_data",
       "text": [
        "<IPython.core.display.HTML at 0x10a046d30>"
       ]
      }
     ],
     "prompt_number": 140
    },
    {
     "cell_type": "code",
     "collapsed": false,
     "input": [
      "%%HTML\n",
      "<table>\n",
      "<tr>\n",
      "    <td><img src='arcane_boots_lg.png'</td>\n",
      "    <td><img src='tpscroll_lg.png'</td></tr>\n",
      "<tr><td><img src='arcane_boots_lg.png'</td></tr>\n",
      "</table>"
     ],
     "language": "python",
     "metadata": {},
     "outputs": [
      {
       "html": [
        "<table>\n",
        "<tr>\n",
        "    <td><img src='arcane_boots_lg.png'</td>\n",
        "    <td><img src='tpscroll_lg.png'</td></tr>\n",
        "<tr><td><img src='arcane_boots_lg.png'</td></tr>\n",
        "</table>"
       ],
       "metadata": {},
       "output_type": "display_data",
       "text": [
        "<IPython.core.display.HTML at 0x111addfd0>"
       ]
      }
     ],
     "prompt_number": 6
    },
    {
     "cell_type": "code",
     "collapsed": false,
     "input": [
      "ls /Users/admin/Envs/py3/lib/python3.4/site-packages/dota/resources/item/"
     ],
     "language": "python",
     "metadata": {},
     "outputs": [
      {
       "output_type": "stream",
       "stream": "stdout",
       "text": [
        "arcane_boots_lg.png\r\n"
       ]
      }
     ],
     "prompt_number": 7
    },
    {
     "cell_type": "code",
     "collapsed": false,
     "input": [
      "[display_png(r, raw=True), display_png(r, raw=True), display_png(r, raw=True)]"
     ],
     "language": "python",
     "metadata": {},
     "outputs": [
      {
       "metadata": {},
       "output_type": "display_data",
       "png": "[encoded data removed]"
      },
      {
       "metadata": {},
       "output_type": "display_data",
       "png": "[encoded data removed]"
      },
      {
       "metadata": {},
       "output_type": "display_data",
       "png": "[encoded data removed]"
      },
      {
       "metadata": {},
       "output_type": "pyout",
       "prompt_number": 182,
       "text": [
        "[None, None, None]"
       ]
      }
     ],
     "prompt_number": 182
    },
    {
     "cell_type": "code",
     "collapsed": false,
     "input": [],
     "language": "python",
     "metadata": {},
     "outputs": []
    }
   ],
   "metadata": {}
  }
 ]
}