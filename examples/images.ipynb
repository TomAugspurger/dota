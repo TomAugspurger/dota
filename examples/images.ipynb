{
 "metadata": {
  "name": "",
  "signature": "sha256:88099ca1c78daa3b9b848fc0384bdccdcdd112ccbf805e7c348429fab8b2114f"
 },
 "nbformat": 3,
 "nbformat_minor": 0,
 "worksheets": [
  {
   "cells": [
    {
     "cell_type": "code",
     "collapsed": false,
     "input": [
      "%load_ext autoreload\n",
      "%autoreload\n",
      "\n",
      "from pathlib import Path\n",
      "\n",
      "from IPython.display import HTML, Image, display_html, display_png\n",
      "from IPython import display\n",
      "\n",
      "from dota.api import DetailsResponse, API\n",
      "from dota import api"
     ],
     "language": "python",
     "metadata": {},
     "outputs": [],
     "prompt_number": 1
    },
    {
     "cell_type": "code",
     "collapsed": false,
     "input": [
      "dr = DetailsResponse.from_json('../data/585659011.json')\n",
      "df = dr.match_report().head()"
     ],
     "language": "python",
     "metadata": {},
     "outputs": [],
     "prompt_number": 2
    },
    {
     "cell_type": "code",
     "collapsed": false,
     "input": [
      "df"
     ],
     "language": "python",
     "metadata": {},
     "outputs": [
      {
       "html": [
        "<div style=\"max-height:1000px;max-width:1500px;overflow:auto;\">\n",
        "<table border=\"1\" class=\"dataframe\">\n",
        "  <thead>\n",
        "    <tr style=\"text-align: right;\">\n",
        "      <th></th>\n",
        "      <th></th>\n",
        "      <th></th>\n",
        "      <th>level</th>\n",
        "      <th>kills</th>\n",
        "      <th>deaths</th>\n",
        "      <th>assists</th>\n",
        "      <th>last_hits</th>\n",
        "      <th>denies</th>\n",
        "      <th>gold</th>\n",
        "      <th>gold_spent</th>\n",
        "      <th>player_slot</th>\n",
        "      <th>account_id</th>\n",
        "      <th>hero_damage</th>\n",
        "      <th>hero_healing</th>\n",
        "      <th>item_0</th>\n",
        "      <th>item_1</th>\n",
        "      <th>item_2</th>\n",
        "      <th>item_3</th>\n",
        "      <th>item_4</th>\n",
        "      <th>item_5</th>\n",
        "      <th>win</th>\n",
        "    </tr>\n",
        "    <tr>\n",
        "      <th>match_id</th>\n",
        "      <th>team</th>\n",
        "      <th>hero</th>\n",
        "      <th></th>\n",
        "      <th></th>\n",
        "      <th></th>\n",
        "      <th></th>\n",
        "      <th></th>\n",
        "      <th></th>\n",
        "      <th></th>\n",
        "      <th></th>\n",
        "      <th></th>\n",
        "      <th></th>\n",
        "      <th></th>\n",
        "      <th></th>\n",
        "      <th></th>\n",
        "      <th></th>\n",
        "      <th></th>\n",
        "      <th></th>\n",
        "      <th></th>\n",
        "      <th></th>\n",
        "      <th></th>\n",
        "    </tr>\n",
        "  </thead>\n",
        "  <tbody>\n",
        "    <tr>\n",
        "      <th rowspan=\"5\" valign=\"top\">585659011</th>\n",
        "      <th rowspan=\"5\" valign=\"top\">Dire</th>\n",
        "      <th>rubick</th>\n",
        "      <td> 16</td>\n",
        "      <td>  4</td>\n",
        "      <td> 5</td>\n",
        "      <td> 11</td>\n",
        "      <td>  32</td>\n",
        "      <td> 24</td>\n",
        "      <td> 2166</td>\n",
        "      <td>  8440</td>\n",
        "      <td> 130</td>\n",
        "      <td> 142531084</td>\n",
        "      <td>  5240</td>\n",
        "      <td>    0</td>\n",
        "      <td> 180</td>\n",
        "      <td>  46</td>\n",
        "      <td>  24</td>\n",
        "      <td> 102</td>\n",
        "      <td>  36</td>\n",
        "      <td>  57</td>\n",
        "      <td> True</td>\n",
        "    </tr>\n",
        "    <tr>\n",
        "      <th>shadow_shaman</th>\n",
        "      <td> 15</td>\n",
        "      <td>  2</td>\n",
        "      <td> 4</td>\n",
        "      <td> 17</td>\n",
        "      <td>  76</td>\n",
        "      <td>  1</td>\n",
        "      <td>  638</td>\n",
        "      <td> 11730</td>\n",
        "      <td> 129</td>\n",
        "      <td>       NaN</td>\n",
        "      <td>  9046</td>\n",
        "      <td> 1045</td>\n",
        "      <td>  88</td>\n",
        "      <td> 108</td>\n",
        "      <td> 180</td>\n",
        "      <td>  73</td>\n",
        "      <td>  67</td>\n",
        "      <td>  79</td>\n",
        "      <td> True</td>\n",
        "    </tr>\n",
        "    <tr>\n",
        "      <th>sniper</th>\n",
        "      <td> 16</td>\n",
        "      <td> 11</td>\n",
        "      <td> 3</td>\n",
        "      <td>  8</td>\n",
        "      <td>  70</td>\n",
        "      <td> 10</td>\n",
        "      <td> 1602</td>\n",
        "      <td> 12120</td>\n",
        "      <td> 128</td>\n",
        "      <td>       NaN</td>\n",
        "      <td> 15558</td>\n",
        "      <td>    0</td>\n",
        "      <td>   0</td>\n",
        "      <td> 152</td>\n",
        "      <td>  63</td>\n",
        "      <td>  75</td>\n",
        "      <td> 168</td>\n",
        "      <td> 149</td>\n",
        "      <td> True</td>\n",
        "    </tr>\n",
        "    <tr>\n",
        "      <th>storm_spirit</th>\n",
        "      <td> 19</td>\n",
        "      <td>  7</td>\n",
        "      <td> 2</td>\n",
        "      <td>  9</td>\n",
        "      <td> 152</td>\n",
        "      <td> 14</td>\n",
        "      <td> 1296</td>\n",
        "      <td> 16610</td>\n",
        "      <td> 132</td>\n",
        "      <td> 100672887</td>\n",
        "      <td> 10249</td>\n",
        "      <td>    0</td>\n",
        "      <td>  63</td>\n",
        "      <td> 123</td>\n",
        "      <td> 121</td>\n",
        "      <td>  58</td>\n",
        "      <td>   0</td>\n",
        "      <td>  77</td>\n",
        "      <td> True</td>\n",
        "    </tr>\n",
        "    <tr>\n",
        "      <th>windrunner</th>\n",
        "      <td> 17</td>\n",
        "      <td>  5</td>\n",
        "      <td> 1</td>\n",
        "      <td> 16</td>\n",
        "      <td> 123</td>\n",
        "      <td>  5</td>\n",
        "      <td>  841</td>\n",
        "      <td> 15545</td>\n",
        "      <td> 131</td>\n",
        "      <td>  64741364</td>\n",
        "      <td>  8664</td>\n",
        "      <td>    0</td>\n",
        "      <td>  50</td>\n",
        "      <td>  34</td>\n",
        "      <td> 102</td>\n",
        "      <td>  96</td>\n",
        "      <td>   7</td>\n",
        "      <td>  46</td>\n",
        "      <td> True</td>\n",
        "    </tr>\n",
        "  </tbody>\n",
        "</table>\n",
        "<p>5 rows \u00d7 19 columns</p>\n",
        "</div>"
       ],
       "metadata": {},
       "output_type": "pyout",
       "prompt_number": 3,
       "text": [
        "                              level  kills  deaths  assists  last_hits  \\\n",
        "match_id  team hero                                                      \n",
        "585659011 Dire rubick            16      4       5       11         32   \n",
        "               shadow_shaman     15      2       4       17         76   \n",
        "               sniper            16     11       3        8         70   \n",
        "               storm_spirit      19      7       2        9        152   \n",
        "               windrunner        17      5       1       16        123   \n",
        "\n",
        "                              denies  gold  gold_spent  player_slot  \\\n",
        "match_id  team hero                                                   \n",
        "585659011 Dire rubick             24  2166        8440          130   \n",
        "               shadow_shaman       1   638       11730          129   \n",
        "               sniper             10  1602       12120          128   \n",
        "               storm_spirit       14  1296       16610          132   \n",
        "               windrunner          5   841       15545          131   \n",
        "\n",
        "                              account_id  hero_damage  hero_healing  item_0  \\\n",
        "match_id  team hero                                                           \n",
        "585659011 Dire rubick          142531084         5240             0     180   \n",
        "               shadow_shaman         NaN         9046          1045      88   \n",
        "               sniper                NaN        15558             0       0   \n",
        "               storm_spirit    100672887        10249             0      63   \n",
        "               windrunner       64741364         8664             0      50   \n",
        "\n",
        "                              item_1  item_2  item_3  item_4  item_5   win  \n",
        "match_id  team hero                                                         \n",
        "585659011 Dire rubick             46      24     102      36      57  True  \n",
        "               shadow_shaman     108     180      73      67      79  True  \n",
        "               sniper            152      63      75     168     149  True  \n",
        "               storm_spirit      123     121      58       0      77  True  \n",
        "               windrunner         34     102      96       7      46  True  \n",
        "\n",
        "[5 rows x 19 columns]"
       ]
      }
     ],
     "prompt_number": 3
    },
    {
     "cell_type": "code",
     "collapsed": false,
     "input": [
      "res = df.item_0.map(API.get_item_image)\n",
      "res"
     ],
     "language": "python",
     "metadata": {},
     "outputs": [
      {
       "metadata": {},
       "output_type": "pyout",
       "prompt_number": 4,
       "text": [
        "match_id   team  hero         \n",
        "585659011  Dire  rubick           /Users/tom/Envs/py3/lib/python3.3/site-package...\n",
        "                 shadow_shaman    /Users/tom/Envs/py3/lib/python3.3/site-package...\n",
        "                 sniper                                                           0\n",
        "                 storm_spirit     /Users/tom/Envs/py3/lib/python3.3/site-package...\n",
        "                 windrunner       /Users/tom/Envs/py3/lib/python3.3/site-package...\n",
        "Name: item_0, dtype: object"
       ]
      }
     ],
     "prompt_number": 4
    },
    {
     "cell_type": "code",
     "collapsed": false,
     "input": [
      "def f(x):\n",
      "    if x is not None:\n",
      "        return x.split('resources')[-1]\n",
      "    else:\n",
      "        return x\n",
      "\n",
      "res2 = res.apply(f)"
     ],
     "language": "python",
     "metadata": {},
     "outputs": [],
     "prompt_number": 5
    },
    {
     "cell_type": "code",
     "collapsed": false,
     "input": [
      "res2"
     ],
     "language": "python",
     "metadata": {},
     "outputs": [
      {
       "metadata": {},
       "output_type": "pyout",
       "prompt_number": 6,
       "text": [
        "match_id   team  hero         \n",
        "585659011  Dire  rubick               /item/arcane_boots_lg.png\n",
        "                 shadow_shaman    /item/ring_of_basilius_lg.png\n",
        "                 sniper                                       0\n",
        "                 storm_spirit         /item/power_treads_lg.png\n",
        "                 windrunner            /item/phase_boots_lg.png\n",
        "Name: item_0, dtype: object"
       ]
      }
     ],
     "prompt_number": 6
    },
    {
     "cell_type": "code",
     "collapsed": false,
     "input": [
      "class Imgs(list):\n",
      "    \n",
      "    def __init__(self, iterable):\n",
      "        \n",
      "        super().__init__(iterable)\n",
      "    \n",
      "    def _repr_html_(self):\n",
      "        return self._generate_repr_html_()\n",
      "\n",
      "    def _generate_repr_html_(self):\n",
      "        \n",
      "        resource_dir = self._maybe_link_resources()\n",
      "        srcs = []\n",
      "        for p in self:\n",
      "            img = Path('resources/' + (p))\n",
      "            if img.exists():\n",
      "                srcs.append(\"<td><img src='{}'</img></td>\".format(str(img)))\n",
      "            else:\n",
      "                srcs.append(\"<td>{}</td>\".format(str(p)))\n",
      "        header = \"<table>{}</table>\"\n",
      "        body = \"<tr>\" + \"</tr><tr>\".join(srcs) + \"</tr>\"\n",
      "        return header.format(body)\n",
      "    \n",
      "    def _maybe_link_resources(self):\n",
      "        p = Path('resources/')\n",
      "        if not p.exists():\n",
      "            p.symlink_to('/Users/tom/Envs/py3/lib/python3.3/site-packages/dota/resources/', target_is_directory=True)\n",
      "        return p\n",
      "\n",
      "class Imgs2(list):\n",
      "    \n",
      "    def __init__(self, iterable):\n",
      "        \n",
      "        super().__init__(iterable)\n",
      "    \n",
      "    def _repr_html_(self):\n",
      "        return self._generate_repr_html_()\n",
      "\n",
      "    def _generate_repr_html_(self):\n",
      "\n",
      "        srcs = []\n",
      "        for p in self:\n",
      "            img = Path(p)\n",
      "            if img.exists():\n",
      "                srcs.append(\"<td><img src='{}'</img></td>\".format(str(img)))\n",
      "            else:\n",
      "                srcs.append(\"<td>{}</td>\".format(str(p)))\n",
      "        header = \"<table>{}</table>\"\n",
      "        body = \"<tr>\" + \"</tr><tr>\".join(srcs) + \"</tr>\"\n",
      "        return header.format(body)\n"
     ],
     "language": "python",
     "metadata": {},
     "outputs": [],
     "prompt_number": 75
    },
    {
     "cell_type": "code",
     "collapsed": false,
     "input": [
      "self = imgs\n",
      "resource_dir = self._maybe_link_resources()\n",
      "srcs = []\n",
      "p = next(iter(self))\n",
      "img = Path('resources/' + (p))\n",
      "img.exists()"
     ],
     "language": "python",
     "metadata": {},
     "outputs": [
      {
       "metadata": {},
       "output_type": "pyout",
       "prompt_number": 38,
       "text": [
        "True"
       ]
      }
     ],
     "prompt_number": 38
    },
    {
     "cell_type": "code",
     "collapsed": false,
     "input": [
      "imgs = Imgs(res2.values)\n",
      "imgs"
     ],
     "language": "python",
     "metadata": {},
     "outputs": [
      {
       "html": [
        "<table><tr><td><img src='resources/item/arcane_boots_lg.png'</img></td></tr><tr><td><img src='resources/item/ring_of_basilius_lg.png'</img></td></tr><tr><td>0</td></tr><tr><td><img src='resources/item/power_treads_lg.png'</img></td></tr><tr><td><img src='resources/item/phase_boots_lg.png'</img></td></tr></table>"
       ],
       "metadata": {},
       "output_type": "pyout",
       "prompt_number": 41,
       "text": [
        "['/item/arcane_boots_lg.png',\n",
        " '/item/ring_of_basilius_lg.png',\n",
        " '0',\n",
        " '/item/power_treads_lg.png',\n",
        " '/item/phase_boots_lg.png']"
       ]
      }
     ],
     "prompt_number": 41
    },
    {
     "cell_type": "code",
     "collapsed": false,
     "input": [
      "self = res2.values\n",
      "resource_dir = self._maybe_link_resources()\n",
      "        srcs = []\n"
     ],
     "language": "python",
     "metadata": {},
     "outputs": [
      {
       "metadata": {},
       "output_type": "pyout",
       "prompt_number": 24,
       "text": [
        "'resources'"
       ]
      }
     ],
     "prompt_number": 24
    },
    {
     "cell_type": "code",
     "collapsed": false,
     "input": [
      "list(resource_dir.iterdir())"
     ],
     "language": "python",
     "metadata": {},
     "outputs": [
      {
       "metadata": {},
       "output_type": "pyout",
       "prompt_number": 36,
       "text": [
        "[PosixPath('resources/hero'), PosixPath('resources/item')]"
       ]
      }
     ],
     "prompt_number": 36
    },
    {
     "cell_type": "code",
     "collapsed": false,
     "input": [
      "self = Imgs(res2.values)\n",
      "resource_dir = self._maybe_link_resources()\n",
      "srcs = []\n",
      "for p in self:\n",
      "    print(resource_dir / Path(p))"
     ],
     "language": "python",
     "metadata": {},
     "outputs": [
      {
       "output_type": "stream",
       "stream": "stdout",
       "text": [
        "/item/arcane_boots_lg.png\n",
        "/item/ring_of_basilius_lg.png\n",
        "resources/0\n",
        "/item/power_treads_lg.png\n",
        "/item/phase_boots_lg.png\n"
       ]
      }
     ],
     "prompt_number": 28
    },
    {
     "cell_type": "code",
     "collapsed": false,
     "input": [
      "res2.values"
     ],
     "language": "python",
     "metadata": {},
     "outputs": [
      {
       "metadata": {},
       "output_type": "pyout",
       "prompt_number": 22,
       "text": [
        "array(['/item/arcane_boots_lg.png', '/item/ring_of_basilius_lg.png', '0',\n",
        "       '/item/power_treads_lg.png', '/item/phase_boots_lg.png'], dtype=object)"
       ]
      }
     ],
     "prompt_number": 22
    },
    {
     "cell_type": "code",
     "collapsed": false,
     "input": [
      "Imgs(res)._generate_repr_html_()"
     ],
     "language": "python",
     "metadata": {},
     "outputs": [
      {
       "metadata": {},
       "output_type": "pyout",
       "prompt_number": 10,
       "text": [
        "\"<table><tr><td><img src='/Users/tom/Envs/py3/lib/python3.3/site-packages/dota/resources/item/arcane_boots_lg.png'</img></td></tr><tr><td><img src='/Users/tom/Envs/py3/lib/python3.3/site-packages/dota/resources/item/ring_of_basilius_lg.png'</img></td></tr><tr><td><img src='/Users/tom/Envs/py3/lib/python3.3/site-packages/dota/resources/item/power_treads_lg.png'</img></td></tr><tr><td><img src='/Users/tom/Envs/py3/lib/python3.3/site-packages/dota/resources/item/phase_boots_lg.png'</img></td></tr></table>\""
       ]
      }
     ],
     "prompt_number": 10
    },
    {
     "cell_type": "code",
     "collapsed": false,
     "input": [
      "f = lambda x: print(x)"
     ],
     "language": "python",
     "metadata": {},
     "outputs": [],
     "prompt_number": 153
    },
    {
     "cell_type": "code",
     "collapsed": false,
     "input": [
      "df.item_0.map(f)"
     ],
     "language": "python",
     "metadata": {},
     "outputs": [
      {
       "output_type": "stream",
       "stream": "stdout",
       "text": [
        "180\n",
        "88\n",
        "0\n",
        "63\n",
        "50\n"
       ]
      },
      {
       "metadata": {},
       "output_type": "pyout",
       "prompt_number": 154,
       "text": [
        "match_id   team  hero         \n",
        "585659011  Dire  rubick           None\n",
        "                 shadow_shaman    None\n",
        "                 sniper           None\n",
        "                 storm_spirit     None\n",
        "                 windrunner       None\n",
        "Name: item_0, dtype: object"
       ]
      }
     ],
     "prompt_number": 154
    },
    {
     "cell_type": "code",
     "collapsed": false,
     "input": [],
     "language": "python",
     "metadata": {},
     "outputs": [
      {
       "metadata": {},
       "output_type": "pyout",
       "prompt_number": 63,
       "text": [
        "match_id   team  hero         \n",
        "585659011  Dire  rubick           <img src=\"/resources//item/arcane_boots_lg.png\"/>\n",
        "                 shadow_shaman    <img src=\"/resources//item/ring_of_basilius_lg...\n",
        "                 sniper                                   <img src=\"/resources/0\"/>\n",
        "                 storm_spirit     <img src=\"/resources//item/power_treads_lg.png\"/>\n",
        "                 windrunner        <img src=\"/resources//item/phase_boots_lg.png\"/>\n",
        "Name: item_0, dtype: object"
       ]
      }
     ],
     "prompt_number": 63
    },
    {
     "cell_type": "code",
     "collapsed": false,
     "input": [
      "res2 "
     ],
     "language": "python",
     "metadata": {},
     "outputs": [
      {
       "metadata": {},
       "output_type": "pyout",
       "prompt_number": 70,
       "text": [
        "match_id   team  hero         \n",
        "585659011  Dire  rubick               /item/arcane_boots_lg.png\n",
        "                 shadow_shaman    /item/ring_of_basilius_lg.png\n",
        "                 sniper                                       0\n",
        "                 storm_spirit         /item/power_treads_lg.png\n",
        "                 windrunner            /item/phase_boots_lg.png\n",
        "Name: item_0, dtype: object"
       ]
      }
     ],
     "prompt_number": 70
    },
    {
     "cell_type": "code",
     "collapsed": false,
     "input": [
      "r = 'resources/' + res2\n",
      "Imgs2(r.values)"
     ],
     "language": "python",
     "metadata": {},
     "outputs": [
      {
       "html": [
        "<table><tr><td><img src='resources/item/arcane_boots_lg.png'</img></td></tr><tr><td><img src='resources/item/ring_of_basilius_lg.png'</img></td></tr><tr><td>resources/0</td></tr><tr><td><img src='resources/item/power_treads_lg.png'</img></td></tr><tr><td><img src='resources/item/phase_boots_lg.png'</img></td></tr></table>"
       ],
       "metadata": {},
       "output_type": "pyout",
       "prompt_number": 76,
       "text": [
        "['resources//item/arcane_boots_lg.png',\n",
        " 'resources//item/ring_of_basilius_lg.png',\n",
        " 'resources/0',\n",
        " 'resources//item/power_treads_lg.png',\n",
        " 'resources//item/phase_boots_lg.png']"
       ]
      }
     ],
     "prompt_number": 76
    },
    {
     "cell_type": "code",
     "collapsed": false,
     "input": [
      "df.head()"
     ],
     "language": "python",
     "metadata": {},
     "outputs": [
      {
       "html": [
        "<div style=\"max-height:1000px;max-width:1500px;overflow:auto;\">\n",
        "<table border=\"1\" class=\"dataframe\">\n",
        "  <thead>\n",
        "    <tr style=\"text-align: right;\">\n",
        "      <th></th>\n",
        "      <th></th>\n",
        "      <th></th>\n",
        "      <th>level</th>\n",
        "      <th>kills</th>\n",
        "      <th>deaths</th>\n",
        "      <th>assists</th>\n",
        "      <th>last_hits</th>\n",
        "      <th>denies</th>\n",
        "      <th>gold</th>\n",
        "      <th>gold_spent</th>\n",
        "      <th>player_slot</th>\n",
        "      <th>account_id</th>\n",
        "      <th>hero_damage</th>\n",
        "      <th>hero_healing</th>\n",
        "      <th>item_0</th>\n",
        "      <th>item_1</th>\n",
        "      <th>item_2</th>\n",
        "      <th>item_3</th>\n",
        "      <th>item_4</th>\n",
        "      <th>item_5</th>\n",
        "      <th>win</th>\n",
        "    </tr>\n",
        "    <tr>\n",
        "      <th>match_id</th>\n",
        "      <th>team</th>\n",
        "      <th>hero</th>\n",
        "      <th></th>\n",
        "      <th></th>\n",
        "      <th></th>\n",
        "      <th></th>\n",
        "      <th></th>\n",
        "      <th></th>\n",
        "      <th></th>\n",
        "      <th></th>\n",
        "      <th></th>\n",
        "      <th></th>\n",
        "      <th></th>\n",
        "      <th></th>\n",
        "      <th></th>\n",
        "      <th></th>\n",
        "      <th></th>\n",
        "      <th></th>\n",
        "      <th></th>\n",
        "      <th></th>\n",
        "      <th></th>\n",
        "    </tr>\n",
        "  </thead>\n",
        "  <tbody>\n",
        "    <tr>\n",
        "      <th rowspan=\"5\" valign=\"top\">585659011</th>\n",
        "      <th rowspan=\"5\" valign=\"top\">Dire</th>\n",
        "      <th>rubick</th>\n",
        "      <td> 16</td>\n",
        "      <td>  4</td>\n",
        "      <td> 5</td>\n",
        "      <td> 11</td>\n",
        "      <td>  32</td>\n",
        "      <td> 24</td>\n",
        "      <td> 2166</td>\n",
        "      <td>  8440</td>\n",
        "      <td> 130</td>\n",
        "      <td> 142531084</td>\n",
        "      <td>  5240</td>\n",
        "      <td>    0</td>\n",
        "      <td> 180</td>\n",
        "      <td>  46</td>\n",
        "      <td>  24</td>\n",
        "      <td> 102</td>\n",
        "      <td>  36</td>\n",
        "      <td>  57</td>\n",
        "      <td> True</td>\n",
        "    </tr>\n",
        "    <tr>\n",
        "      <th>shadow_shaman</th>\n",
        "      <td> 15</td>\n",
        "      <td>  2</td>\n",
        "      <td> 4</td>\n",
        "      <td> 17</td>\n",
        "      <td>  76</td>\n",
        "      <td>  1</td>\n",
        "      <td>  638</td>\n",
        "      <td> 11730</td>\n",
        "      <td> 129</td>\n",
        "      <td>       NaN</td>\n",
        "      <td>  9046</td>\n",
        "      <td> 1045</td>\n",
        "      <td>  88</td>\n",
        "      <td> 108</td>\n",
        "      <td> 180</td>\n",
        "      <td>  73</td>\n",
        "      <td>  67</td>\n",
        "      <td>  79</td>\n",
        "      <td> True</td>\n",
        "    </tr>\n",
        "    <tr>\n",
        "      <th>sniper</th>\n",
        "      <td> 16</td>\n",
        "      <td> 11</td>\n",
        "      <td> 3</td>\n",
        "      <td>  8</td>\n",
        "      <td>  70</td>\n",
        "      <td> 10</td>\n",
        "      <td> 1602</td>\n",
        "      <td> 12120</td>\n",
        "      <td> 128</td>\n",
        "      <td>       NaN</td>\n",
        "      <td> 15558</td>\n",
        "      <td>    0</td>\n",
        "      <td>   0</td>\n",
        "      <td> 152</td>\n",
        "      <td>  63</td>\n",
        "      <td>  75</td>\n",
        "      <td> 168</td>\n",
        "      <td> 149</td>\n",
        "      <td> True</td>\n",
        "    </tr>\n",
        "    <tr>\n",
        "      <th>storm_spirit</th>\n",
        "      <td> 19</td>\n",
        "      <td>  7</td>\n",
        "      <td> 2</td>\n",
        "      <td>  9</td>\n",
        "      <td> 152</td>\n",
        "      <td> 14</td>\n",
        "      <td> 1296</td>\n",
        "      <td> 16610</td>\n",
        "      <td> 132</td>\n",
        "      <td> 100672887</td>\n",
        "      <td> 10249</td>\n",
        "      <td>    0</td>\n",
        "      <td>  63</td>\n",
        "      <td> 123</td>\n",
        "      <td> 121</td>\n",
        "      <td>  58</td>\n",
        "      <td>   0</td>\n",
        "      <td>  77</td>\n",
        "      <td> True</td>\n",
        "    </tr>\n",
        "    <tr>\n",
        "      <th>windrunner</th>\n",
        "      <td> 17</td>\n",
        "      <td>  5</td>\n",
        "      <td> 1</td>\n",
        "      <td> 16</td>\n",
        "      <td> 123</td>\n",
        "      <td>  5</td>\n",
        "      <td>  841</td>\n",
        "      <td> 15545</td>\n",
        "      <td> 131</td>\n",
        "      <td>  64741364</td>\n",
        "      <td>  8664</td>\n",
        "      <td>    0</td>\n",
        "      <td>  50</td>\n",
        "      <td>  34</td>\n",
        "      <td> 102</td>\n",
        "      <td>  96</td>\n",
        "      <td>   7</td>\n",
        "      <td>  46</td>\n",
        "      <td> True</td>\n",
        "    </tr>\n",
        "  </tbody>\n",
        "</table>\n",
        "<p>5 rows \u00d7 19 columns</p>\n",
        "</div>"
       ],
       "metadata": {},
       "output_type": "pyout",
       "prompt_number": 46,
       "text": [
        "                              level  kills  deaths  assists  last_hits  \\\n",
        "match_id  team hero                                                      \n",
        "585659011 Dire rubick            16      4       5       11         32   \n",
        "               shadow_shaman     15      2       4       17         76   \n",
        "               sniper            16     11       3        8         70   \n",
        "               storm_spirit      19      7       2        9        152   \n",
        "               windrunner        17      5       1       16        123   \n",
        "\n",
        "                              denies  gold  gold_spent  player_slot  \\\n",
        "match_id  team hero                                                   \n",
        "585659011 Dire rubick             24  2166        8440          130   \n",
        "               shadow_shaman       1   638       11730          129   \n",
        "               sniper             10  1602       12120          128   \n",
        "               storm_spirit       14  1296       16610          132   \n",
        "               windrunner          5   841       15545          131   \n",
        "\n",
        "                              account_id  hero_damage  hero_healing  item_0  \\\n",
        "match_id  team hero                                                           \n",
        "585659011 Dire rubick          142531084         5240             0     180   \n",
        "               shadow_shaman         NaN         9046          1045      88   \n",
        "               sniper                NaN        15558             0       0   \n",
        "               storm_spirit    100672887        10249             0      63   \n",
        "               windrunner       64741364         8664             0      50   \n",
        "\n",
        "                              item_1  item_2  item_3  item_4  item_5   win  \n",
        "match_id  team hero                                                         \n",
        "585659011 Dire rubick             46      24     102      36      57  True  \n",
        "               shadow_shaman     108     180      73      67      79  True  \n",
        "               sniper            152      63      75     168     149  True  \n",
        "               storm_spirit      123     121      58       0      77  True  \n",
        "               windrunner         34     102      96       7      46  True  \n",
        "\n",
        "[5 rows x 19 columns]"
       ]
      }
     ],
     "prompt_number": 46
    },
    {
     "cell_type": "code",
     "collapsed": false,
     "input": [
      "class IMDF(pd.DataFrame):\n",
      "    \n",
      "    def __init__(self, *args, **kwargs):\n",
      "        \n",
      "        super().__init__(*args, **kwargs)\n",
      "        self.df = pd.DataFrame(*args, **kwargs)\n",
      "    \n",
      "    def _repr_html_(self):\n",
      "#        for col in ['item_' + str(x) for x in range(6)]:\n",
      "            \n",
      "        return super()._repr_html_()"
     ],
     "language": "python",
     "metadata": {},
     "outputs": [],
     "prompt_number": 110
    },
    {
     "cell_type": "code",
     "collapsed": false,
     "input": [
      "['item_' + str(x) for x in range(6)]"
     ],
     "language": "python",
     "metadata": {},
     "outputs": [
      {
       "metadata": {},
       "output_type": "pyout",
       "prompt_number": 111,
       "text": [
        "['item_0', 'item_1', 'item_2', 'item_3', 'item_4', 'item_5']"
       ]
      }
     ],
     "prompt_number": 111
    },
    {
     "cell_type": "code",
     "collapsed": false,
     "input": [
      "x = IMDF(res2.values, columns=['item0'])\n",
      "x.df"
     ],
     "language": "python",
     "metadata": {},
     "outputs": [
      {
       "html": [
        "<div style=\"max-height:1000px;max-width:1500px;overflow:auto;\">\n",
        "<table border=\"1\" class=\"dataframe\">\n",
        "  <thead>\n",
        "    <tr style=\"text-align: right;\">\n",
        "      <th></th>\n",
        "      <th>item0</th>\n",
        "    </tr>\n",
        "  </thead>\n",
        "  <tbody>\n",
        "    <tr>\n",
        "      <th>0</th>\n",
        "      <td>     /item/arcane_boots_lg.png</td>\n",
        "    </tr>\n",
        "    <tr>\n",
        "      <th>1</th>\n",
        "      <td> /item/ring_of_basilius_lg.png</td>\n",
        "    </tr>\n",
        "    <tr>\n",
        "      <th>2</th>\n",
        "      <td>                             0</td>\n",
        "    </tr>\n",
        "    <tr>\n",
        "      <th>3</th>\n",
        "      <td>     /item/power_treads_lg.png</td>\n",
        "    </tr>\n",
        "    <tr>\n",
        "      <th>4</th>\n",
        "      <td>      /item/phase_boots_lg.png</td>\n",
        "    </tr>\n",
        "  </tbody>\n",
        "</table>\n",
        "<p>5 rows \u00d7 1 columns</p>\n",
        "</div>"
       ],
       "metadata": {},
       "output_type": "pyout",
       "prompt_number": 113,
       "text": [
        "                           item0\n",
        "0      /item/arcane_boots_lg.png\n",
        "1  /item/ring_of_basilius_lg.png\n",
        "2                              0\n",
        "3      /item/power_treads_lg.png\n",
        "4       /item/phase_boots_lg.png\n",
        "\n",
        "[5 rows x 1 columns]"
       ]
      }
     ],
     "prompt_number": 113
    },
    {
     "cell_type": "code",
     "collapsed": false,
     "input": [],
     "language": "python",
     "metadata": {},
     "outputs": []
    }
   ],
   "metadata": {}
  }
 ]
}