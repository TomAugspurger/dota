{
 "metadata": {
  "name": "",
  "signature": "sha256:3c840f4b9f508093dfd11aedc31bfd786a26e6340fffe50d28d430dde6fbb2a9"
 },
 "nbformat": 3,
 "nbformat_minor": 0,
 "worksheets": [
  {
   "cells": [
    {
     "cell_type": "code",
     "collapsed": false,
     "input": [
      "import os\n",
      "import re\n",
      "import json\n",
      "\n",
      "import dota\n",
      "from dota import api"
     ],
     "language": "python",
     "metadata": {},
     "outputs": [],
     "prompt_number": 62
    },
    {
     "cell_type": "code",
     "collapsed": false,
     "input": [
      "with open('/Users/tom/Dropbox/bin/api-keys.txt') as f:\n",
      "    key = json.load(f)['steam']\n",
      "\n",
      "h = api.API(key=key)\n"
     ],
     "language": "python",
     "metadata": {},
     "outputs": [],
     "prompt_number": 63
    },
    {
     "cell_type": "code",
     "collapsed": false,
     "input": [
      "p = os.path.join(os.path.dirname(dota.__file__),\n",
      "                 'pro_match_ids.txt')\n",
      "with open(p) as f:\n",
      "    match_ids = [x.strip() for x in f.readlines()]\n",
      "\n",
      "matches = filter(None, map(lambda x: re.match(r'.*(\\d{9}).json$', x),\n",
      "                           os.listdir('../data/pro/')))\n",
      "matches = [x.groups()[0] for x in matches]\n",
      "new_matches = [x for x in match_ids if x not in matches]\n",
      "new_matches"
     ],
     "language": "python",
     "metadata": {},
     "outputs": [
      {
       "metadata": {},
       "output_type": "pyout",
       "prompt_number": 70,
       "text": [
        "['557162694', '557131768', '557125337', '557106666']"
       ]
      }
     ],
     "prompt_number": 70
    },
    {
     "cell_type": "code",
     "collapsed": false,
     "input": [
      "details = {mid: h.get_match_details(mid) for mid in new_matches}"
     ],
     "language": "python",
     "metadata": {},
     "outputs": [],
     "prompt_number": 71
    },
    {
     "cell_type": "code",
     "collapsed": false,
     "input": [
      "try:\n",
      "    os.makedirs('../data/pro/')\n",
      "except FileExistsError:\n",
      "    pass\n",
      "    \n",
      "for k in details:\n",
      "    with open('../data/pro/' + k + '.json', 'w') as f:\n",
      "        json.dump(details[k].resp, f)"
     ],
     "language": "python",
     "metadata": {},
     "outputs": [],
     "prompt_number": 73
    },
    {
     "cell_type": "code",
     "collapsed": false,
     "input": [],
     "language": "python",
     "metadata": {},
     "outputs": []
    }
   ],
   "metadata": {}
  }
 ]
}