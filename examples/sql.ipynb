{
 "metadata": {
  "name": "",
  "signature": "sha256:4b07d59b43fdec81b84dbf110807c47e463b5f75da94face0a4c2f38e233d869"
 },
 "nbformat": 3,
 "nbformat_minor": 0,
 "worksheets": [
  {
   "cells": [
    {
     "cell_type": "code",
     "collapsed": false,
     "input": [
      "from sqlalchemy.orm import sessionmaker\n",
      "\n",
      "import dota.sql.orm as o"
     ],
     "language": "python",
     "metadata": {},
     "outputs": [],
     "prompt_number": 1
    },
    {
     "cell_type": "code",
     "collapsed": false,
     "input": [
      "# init stuff\n",
      "\n",
      "engine = o.create_engine('sqlite:///../data/pro/pro.db')\n",
      "Session = sessionmaker(engine)\n",
      "session = Session()"
     ],
     "language": "python",
     "metadata": {},
     "outputs": [],
     "prompt_number": 2
    },
    {
     "cell_type": "code",
     "collapsed": false,
     "input": [
      "# A few example queries\n",
      "\n",
      "g = session.query(o.Game).first()\n",
      "print(\"Game - {}\".format(g))\n",
      "\n",
      "p = session.query(o.Player).first()\n",
      "print(\"Player - {}\".format(g))\n",
      "\n",
      "t = session.query(o.Team).first()\n",
      "print(\"Team - {}\".format(g))"
     ],
     "language": "python",
     "metadata": {},
     "outputs": [
      {
       "output_type": "stream",
       "stream": "stdout",
       "text": [
        "Game - <Game 10963>\n",
        "Player - <Game 10963>\n",
        "Team - <Game 10963>\n"
       ]
      }
     ],
     "prompt_number": 3
    },
    {
     "cell_type": "code",
     "collapsed": true,
     "input": [
      "player_counts = o.count_by(session, 'player', 'games')\n",
      "player_counts.head()"
     ],
     "language": "python",
     "metadata": {},
     "outputs": [
      {
       "metadata": {},
       "output_type": "pyout",
       "prompt_number": 4,
       "text": [
        "2    787\n",
        "1    781\n",
        "3    339\n",
        "4    263\n",
        "5    178\n",
        "Name: player, dtype: int64"
       ]
      }
     ],
     "prompt_number": 4
    },
    {
     "cell_type": "code",
     "collapsed": false,
     "input": [
      "o.count_by(session, 'player', 'team')"
     ],
     "language": "python",
     "metadata": {},
     "outputs": [
      {
       "metadata": {},
       "output_type": "pyout",
       "prompt_number": 8,
       "text": [
        "1    3443\n",
        "Name: player, dtype: int64"
       ]
      }
     ],
     "prompt_number": 8
    },
    {
     "cell_type": "code",
     "collapsed": false,
     "input": [],
     "language": "python",
     "metadata": {},
     "outputs": []
    }
   ],
   "metadata": {}
  }
 ]
}